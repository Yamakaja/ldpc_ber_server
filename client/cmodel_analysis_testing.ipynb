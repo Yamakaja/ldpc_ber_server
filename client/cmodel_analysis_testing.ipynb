{
 "cells": [
  {
   "cell_type": "markdown",
   "id": "51e1f39e-d97b-4c65-89b5-199376a343e1",
   "metadata": {},
   "source": [
    "# CModel Analysis and Testing"
   ]
  },
  {
   "cell_type": "code",
   "execution_count": 1,
   "id": "9226cb2e-716e-423b-95f2-61d26b1d92b6",
   "metadata": {},
   "outputs": [],
   "source": [
    "import numpy as np\n",
    "import matplotlib.pyplot as plt\n",
    "import sdfec_cmodel"
   ]
  },
  {
   "cell_type": "code",
   "execution_count": 2,
   "id": "c6666f62-0e43-468e-92be-01a52c758e7e",
   "metadata": {},
   "outputs": [],
   "source": [
    "with open(\"data/data.vcd\", \"r\") as f:\n",
    "    lines = f.read().split(\"\\n\")\n",
    "    data = [int(v[1:], 2) for v in lines if len(v) > 0]"
   ]
  },
  {
   "cell_type": "code",
   "execution_count": 3,
   "id": "4305d956-cd48-4be7-a8b0-7bba48a345d0",
   "metadata": {},
   "outputs": [],
   "source": [
    "block = 15711630\n",
    "din_beats = 372\n",
    "blocks = blocks = len(data) // din_beats"
   ]
  },
  {
   "cell_type": "code",
   "execution_count": 4,
   "id": "3dab7eee-493c-41f2-a0c3-97d3e9715837",
   "metadata": {},
   "outputs": [],
   "source": [
    "def split_vector(v, count, l):\n",
    "    out = []\n",
    "    mask = (1 << l)-1\n",
    "    \n",
    "    for i in range(count):\n",
    "        out.append(v & mask)\n",
    "        v >>= l\n",
    "    \n",
    "    return np.array(out, dtype=np.int8).astype(float) / 4.0\n",
    "    "
   ]
  },
  {
   "cell_type": "code",
   "execution_count": 5,
   "id": "3205e142-bfe7-4bb5-a294-864f3647e295",
   "metadata": {},
   "outputs": [],
   "source": [
    "din_sim = np.array([split_vector(v, 16, 8) for v in data])\n",
    "din_sim = din_sim.reshape(din_sim.size)"
   ]
  },
  {
   "cell_type": "code",
   "execution_count": 6,
   "id": "74888863-414e-4611-a7b8-bc1b972ca724",
   "metadata": {},
   "outputs": [
    {
     "name": "stderr",
     "output_type": "stream",
     "text": [
      "sdfec NOTE: Initializing LDPC code definitions from file...\n",
      "sdfec NOTE: Code number: 0 -> no_id \n"
     ]
    }
   ],
   "source": [
    "model = sdfec_cmodel.sdfec_core(\"sdfec\", \"docsis_31_medium.yml\")"
   ]
  },
  {
   "cell_type": "code",
   "execution_count": 7,
   "id": "8c43ef21-3893-44f0-9d6e-f1a5fbbddc1a",
   "metadata": {},
   "outputs": [],
   "source": [
    "ber = sdfec_cmodel.ldpc_ber_tester(0, model)"
   ]
  },
  {
   "cell_type": "code",
   "execution_count": 8,
   "id": "3152b545-ab0f-4aea-9287-8faedcd8c277",
   "metadata": {},
   "outputs": [],
   "source": [
    "ber.snr_scale = 4\n",
    "ber.snr = 0"
   ]
  },
  {
   "cell_type": "code",
   "execution_count": 9,
   "id": "f0d53805-ab72-4b21-8a3b-5c6d905f4fb1",
   "metadata": {},
   "outputs": [],
   "source": [
    "din_mod_raw,status,_,dout = ber.simulate_block(block, max_iterations=32, term_on_no_change=False)"
   ]
  },
  {
   "cell_type": "code",
   "execution_count": 10,
   "id": "cebd24d7-d9ac-4835-a76b-ffab188c6ad4",
   "metadata": {},
   "outputs": [],
   "source": [
    "din_mod = np.array(din_mod_raw)"
   ]
  },
  {
   "cell_type": "code",
   "execution_count": 11,
   "id": "edd5e582-cfbf-400e-980e-fb7479afd0d7",
   "metadata": {},
   "outputs": [
    {
     "data": {
      "text/plain": [
       "array([-4.25, -7.75, -1.5 ,  0.25,  0.25, -7.75, -3.  , -7.75,  2.75,\n",
       "       -4.25, -1.  ,  0.75, -0.75, -1.  , -7.5 , -2.75, -5.5 ,  0.25,\n",
       "       -5.75, -5.75,  4.  ,  0.25,  2.25, -0.25, -1.75, -5.25,  2.  ,\n",
       "       -5.  , -3.75, -1.  , -7.25, -4.75, -4.5 , -0.5 , -7.75, -5.5 ,\n",
       "       -1.5 , -1.5 , -1.  ,  0.5 , -1.  , -7.75, -2.75, -4.5 , -0.25,\n",
       "       -6.75,  0.25,  4.75, -7.75, -3.75,  1.5 , -6.  , -7.25, -7.75,\n",
       "       -0.75,  2.25,  0.75,  3.75,  0.5 , -4.75,  6.  , -3.75, -2.25,\n",
       "       -3.25, -7.75,  1.25,  4.  ,  3.  ,  1.75, -4.25, -7.75, -1.5 ,\n",
       "       -4.5 , -6.5 , -5.75, -7.  , -7.75, -3.5 , -4.25, -7.75, -7.5 ,\n",
       "       -0.5 , -7.25, -7.75, -7.75,  0.75, -6.  ,  0.25, -4.75, -0.75,\n",
       "       -7.75, -0.75, -3.75,  1.75,  5.25, -1.25,  3.25, -2.25, -0.75,\n",
       "       -7.25,  3.75, -5.  , -2.5 , -7.75, -0.25, -7.75, -3.25, -6.25,\n",
       "        0.5 , -7.75, -5.25, -5.  , -7.75, -2.5 , -3.75, -7.5 , -0.75,\n",
       "        2.5 , -1.25, -5.75, -2.25, -4.75, -7.25, -0.5 , -4.5 , -4.25,\n",
       "       -6.75, -1.5 ])"
      ]
     },
     "execution_count": 11,
     "metadata": {},
     "output_type": "execute_result"
    }
   ],
   "source": [
    "din_sim[:128]"
   ]
  },
  {
   "cell_type": "code",
   "execution_count": 12,
   "id": "4ce799b5-a494-4cfd-baa2-5422654fe99c",
   "metadata": {},
   "outputs": [
    {
     "data": {
      "text/plain": [
       "array([-4.25, -7.75, -1.5 ,  0.25,  0.25, -7.75, -3.  , -7.75,  2.75,\n",
       "       -4.25, -1.  ,  0.75, -0.75, -1.  , -7.5 , -2.75, -5.5 ,  0.25,\n",
       "       -5.75, -5.75,  4.  ,  0.25,  2.25, -0.25, -1.75, -5.25,  2.  ,\n",
       "       -5.  , -3.75, -1.  , -7.25, -4.75, -4.5 , -0.5 , -7.75, -5.5 ,\n",
       "       -1.5 , -1.5 , -1.  ,  0.5 , -1.  , -7.75, -2.75, -4.5 , -0.25,\n",
       "       -6.75,  0.25,  4.75, -7.75, -3.75,  1.5 , -6.  , -7.25, -7.75,\n",
       "       -0.75,  2.25,  0.75,  3.75,  0.5 , -4.75,  6.  , -3.75, -2.25,\n",
       "       -3.25, -7.75,  1.25,  4.  ,  3.  ,  1.75, -4.25, -7.75, -1.5 ,\n",
       "       -4.5 , -6.5 , -5.75, -7.  , -7.75, -3.5 , -4.25, -7.75, -7.5 ,\n",
       "       -0.5 , -7.25, -7.75, -7.75,  0.75, -6.  ,  0.25, -4.75, -0.75,\n",
       "       -7.75, -0.75, -3.75,  1.75,  5.25, -1.25,  3.25, -2.25, -0.75,\n",
       "       -7.25,  3.75, -5.  , -2.5 , -7.75, -0.25, -7.75, -3.25, -6.25,\n",
       "        0.5 , -7.75, -5.25, -5.  , -7.75, -2.5 , -3.75, -7.5 , -0.75,\n",
       "        2.5 , -1.25, -5.75, -2.25, -4.75, -7.25, -0.5 , -4.5 , -4.25,\n",
       "       -6.75, -1.5 ])"
      ]
     },
     "execution_count": 12,
     "metadata": {},
     "output_type": "execute_result"
    }
   ],
   "source": [
    "din_mod[:128]"
   ]
  },
  {
   "cell_type": "code",
   "execution_count": 13,
   "id": "c2c31238-6d97-4de8-a2ae-5d237f106d02",
   "metadata": {},
   "outputs": [
    {
     "data": {
      "text/plain": [
       "0"
      ]
     },
     "execution_count": 13,
     "metadata": {},
     "output_type": "execute_result"
    }
   ],
   "source": [
    "np.count_nonzero(din_sim[:5940] - din_mod)"
   ]
  },
  {
   "cell_type": "code",
   "execution_count": 14,
   "id": "3c75c26a-7074-4481-90b2-f922b2e62122",
   "metadata": {},
   "outputs": [],
   "source": [
    "rnd_vector = ber.get_rnd_vector(block, 0)"
   ]
  },
  {
   "cell_type": "code",
   "execution_count": 15,
   "id": "50b7e6b6-e3bd-4fea-a056-43337d0669ed",
   "metadata": {},
   "outputs": [
    {
     "data": {
      "text/plain": [
       "(-0.0908203125, -1.0166015625)"
      ]
     },
     "execution_count": 15,
     "metadata": {},
     "output_type": "execute_result"
    }
   ],
   "source": [
    "sdfec_cmodel.bitexact_gaussian(*rnd_vector[0])"
   ]
  }
 ],
 "metadata": {
  "kernelspec": {
   "display_name": "Python 3 (ipykernel)",
   "language": "python",
   "name": "python3"
  },
  "language_info": {
   "codemirror_mode": {
    "name": "ipython",
    "version": 3
   },
   "file_extension": ".py",
   "mimetype": "text/x-python",
   "name": "python",
   "nbconvert_exporter": "python",
   "pygments_lexer": "ipython3",
   "version": "3.10.2"
  }
 },
 "nbformat": 4,
 "nbformat_minor": 5
}
