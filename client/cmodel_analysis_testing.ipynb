{
 "cells": [
  {
   "cell_type": "markdown",
   "id": "51e1f39e-d97b-4c65-89b5-199376a343e1",
   "metadata": {},
   "source": [
    "# CModel Analysis and Testing"
   ]
  },
  {
   "cell_type": "code",
   "execution_count": 1,
   "id": "9226cb2e-716e-423b-95f2-61d26b1d92b6",
   "metadata": {},
   "outputs": [],
   "source": [
    "import numpy as np\n",
    "import matplotlib.pyplot as plt\n",
    "import sdfec_cmodel"
   ]
  },
  {
   "cell_type": "code",
   "execution_count": 2,
   "id": "c6666f62-0e43-468e-92be-01a52c758e7e",
   "metadata": {},
   "outputs": [],
   "source": [
    "with open(\"data/data_2.vcd\", \"r\") as f:\n",
    "    lines = f.read().split(\"\\n\")\n",
    "    data = [int(v[1:], 2) for v in lines if len(v) > 0]"
   ]
  },
  {
   "cell_type": "code",
   "execution_count": 3,
   "id": "4305d956-cd48-4be7-a8b0-7bba48a345d0",
   "metadata": {},
   "outputs": [],
   "source": [
    "block = 8991712455\n",
    "din_beats = 372\n",
    "blocks = blocks = len(data) // din_beats\n",
    "decoder = 4"
   ]
  },
  {
   "cell_type": "markdown",
   "id": "ca4b3de7-7b0f-4566-b96f-915e8daded90",
   "metadata": {},
   "source": [
    "### Simulation Setup"
   ]
  },
  {
   "cell_type": "code",
   "execution_count": 4,
   "id": "3e30c23e-3622-483b-b927-e55840c25390",
   "metadata": {},
   "outputs": [
    {
     "name": "stdout",
     "output_type": "stream",
     "text": [
      "        (X\"8df312f829d30e32\", X\"4f025507420e2260\"),\n",
      "        (X\"f9a80ef3c7df9fe4\", X\"f935315d8c504088\"),\n",
      "        (X\"08be1c6c77dd6251\", X\"feffa52e363444a4\"),\n",
      "        (X\"1242605bee1d584a\", X\"7ed5eb6997cf9284\"),\n",
      "        (X\"fd931074f18e941c\", X\"36ad97a948e0b8cf\"),\n",
      "        (X\"f8a1c06ac2bc5daf\", X\"f5bd6904b06edb4b\"),\n",
      "        (X\"3f5d35e21dfb4ae2\", X\"70baa462df9c2733\"),\n",
      "        (X\"3f3cc90eb8f3ff90\", X\"6bdcf5e1997d04ad\"),\n",
      "        (X\"4c2766c865e1b6bf\", X\"d913d0ff4f7b5ee1\"),\n",
      "        (X\"683bdbc4a54e8372\", X\"3a41df1fc1c8e524\"),\n",
      "        (X\"cad2b0e6dd89fa11\", X\"0ad6fa885ef2dcf7\"),\n",
      "        (X\"803440e11c347841\", X\"37a0aaab4efaf00e\"),\n"
     ]
    }
   ],
   "source": [
    "xoro = sdfec_cmodel.xoroshiro128plus(0xC3D3EE97)\n",
    "\n",
    "for i in range(decoder*12):\n",
    "    xoro.jump()\n",
    "\n",
    "xoro.forward(block*din_beats)\n",
    "\n",
    "for i in range(12):\n",
    "    print(f'        (X\"{xoro.s[1]:016x}\", X\"{xoro.s[0]:016x}\"),')\n",
    "    xoro.jump()"
   ]
  },
  {
   "cell_type": "code",
   "execution_count": 5,
   "id": "3dab7eee-493c-41f2-a0c3-97d3e9715837",
   "metadata": {},
   "outputs": [],
   "source": [
    "def split_vector(v, count, l):\n",
    "    out = []\n",
    "    mask = (1 << l)-1\n",
    "    \n",
    "    for i in range(count):\n",
    "        out.append(v & mask)\n",
    "        v >>= l\n",
    "    \n",
    "    return np.array(out, dtype=np.int8).astype(float) / 4.0\n",
    "    "
   ]
  },
  {
   "cell_type": "code",
   "execution_count": 6,
   "id": "3205e142-bfe7-4bb5-a294-864f3647e295",
   "metadata": {},
   "outputs": [],
   "source": [
    "din_sim = np.array([split_vector(v, 16, 8) for v in data])\n",
    "din_sim = din_sim.reshape(din_sim.size)"
   ]
  },
  {
   "cell_type": "code",
   "execution_count": 7,
   "id": "74888863-414e-4611-a7b8-bc1b972ca724",
   "metadata": {},
   "outputs": [
    {
     "name": "stderr",
     "output_type": "stream",
     "text": [
      "sdfec NOTE: Initializing LDPC code definitions from file...\n",
      "sdfec NOTE: Code number: 0 -> no_id \n"
     ]
    }
   ],
   "source": [
    "model = sdfec_cmodel.sdfec_core(\"sdfec\", \"docsis_31_medium.yml\")"
   ]
  },
  {
   "cell_type": "code",
   "execution_count": 8,
   "id": "8c43ef21-3893-44f0-9d6e-f1a5fbbddc1a",
   "metadata": {},
   "outputs": [],
   "source": [
    "ber = sdfec_cmodel.ldpc_ber_tester(decoder, model)"
   ]
  },
  {
   "cell_type": "code",
   "execution_count": 9,
   "id": "3152b545-ab0f-4aea-9287-8faedcd8c277",
   "metadata": {},
   "outputs": [],
   "source": [
    "ber.snr_scale = 4\n",
    "ber.snr = 0"
   ]
  },
  {
   "cell_type": "code",
   "execution_count": 10,
   "id": "f0d53805-ab72-4b21-8a3b-5c6d905f4fb1",
   "metadata": {},
   "outputs": [],
   "source": [
    "din_mod_raw,status,_,dout = ber.simulate_block(block, max_iterations=32, term_on_no_change=False)"
   ]
  },
  {
   "cell_type": "code",
   "execution_count": 11,
   "id": "cebd24d7-d9ac-4835-a76b-ffab188c6ad4",
   "metadata": {},
   "outputs": [],
   "source": [
    "din_mod = np.array(din_mod_raw)"
   ]
  },
  {
   "cell_type": "code",
   "execution_count": 12,
   "id": "edd5e582-cfbf-400e-980e-fb7479afd0d7",
   "metadata": {},
   "outputs": [
    {
     "data": {
      "text/plain": [
       "array([ 4.  , -4.  , -4.25, -5.25, -4.75, -1.  , -1.25, -3.25, -3.75,\n",
       "       -6.  , -3.25, -3.75, -1.5 ,  2.75,  2.5 ,  2.25, -1.  , -7.75,\n",
       "       -7.75,  1.  , -2.5 , -7.75,  1.5 , -7.75,  1.5 , -5.75,  0.25,\n",
       "       -3.  , -0.25, -7.75, -5.75, -3.75, -0.75, -1.  , -6.25, -7.  ,\n",
       "       -6.75, -3.25, -2.25, -7.5 ,  0.  , -7.75, -5.75, -3.75, -5.75,\n",
       "       -2.5 , -7.75,  2.  ,  4.5 , -7.75, -6.  ,  2.  ,  1.25, -7.75,\n",
       "       -0.5 , -1.  ,  4.25,  2.  , -0.25, -3.5 , -4.5 , -7.75, -2.75,\n",
       "       -7.5 , -6.5 ,  0.  , -4.25, -2.75, -5.25, -3.25,  2.  ,  1.  ,\n",
       "       -7.75, -7.75, -7.75, -5.5 , -5.75, -4.75, -7.  , -3.25, -5.75,\n",
       "       -4.5 , -4.75, -4.  , -2.  , -7.75,  0.75, -7.75, -7.75, -7.75,\n",
       "        0.75, -7.75, -3.  ,  2.5 , -4.75, -7.75, -7.75, -7.75, -6.75,\n",
       "       -3.5 , -6.5 , -3.5 ,  0.5 , -3.  , -3.5 , -1.25, -5.25,  5.  ,\n",
       "       -4.  ,  4.  , -7.75, -7.75,  1.25,  1.5 , -6.25, -1.75, -7.25,\n",
       "       -6.  , -7.  , -1.5 , -7.25, -7.25, -4.25, -2.  , -1.75, -7.75,\n",
       "       -3.5 ,  4.  ])"
      ]
     },
     "execution_count": 12,
     "metadata": {},
     "output_type": "execute_result"
    }
   ],
   "source": [
    "din_sim[:128]"
   ]
  },
  {
   "cell_type": "code",
   "execution_count": 13,
   "id": "4ce799b5-a494-4cfd-baa2-5422654fe99c",
   "metadata": {},
   "outputs": [
    {
     "data": {
      "text/plain": [
       "array([ 4.  , -4.  , -4.25, -5.25, -4.75, -1.  , -1.25, -3.25, -3.75,\n",
       "       -6.  , -3.25, -3.75, -1.5 ,  2.75,  2.5 ,  2.25, -1.  , -7.75,\n",
       "       -7.75,  1.  , -2.5 , -7.75,  1.5 , -7.75,  1.5 , -5.75,  0.25,\n",
       "       -3.  , -0.25, -7.75, -5.75, -3.75, -0.75, -1.  , -6.25, -7.  ,\n",
       "       -6.75, -3.25, -2.25, -7.5 ,  0.  , -7.75, -5.75, -3.75, -5.75,\n",
       "       -2.5 , -7.75,  2.  ,  4.5 , -7.75, -6.  ,  2.  ,  1.25, -7.75,\n",
       "       -0.5 , -1.  ,  4.25,  2.  , -0.25, -3.5 , -4.5 , -7.75, -2.75,\n",
       "       -7.5 , -6.5 ,  0.  , -4.25, -2.75, -5.25, -3.25,  2.  ,  1.  ,\n",
       "       -7.75, -7.75, -7.75, -5.5 , -5.75, -4.75, -7.  , -3.25, -5.75,\n",
       "       -4.5 , -4.75, -4.  , -2.  , -7.75,  0.75, -7.75, -7.75, -7.75,\n",
       "        0.75, -7.75, -3.  ,  2.5 , -4.75, -7.75, -7.75, -7.75, -6.75,\n",
       "       -3.5 , -6.5 , -3.5 ,  0.5 , -3.  , -3.5 , -1.25, -5.25,  5.  ,\n",
       "       -4.  ,  4.  , -7.75, -7.75,  1.25,  1.5 , -6.25, -1.75, -7.25,\n",
       "       -6.  , -7.  , -1.5 , -7.25, -7.25, -4.25, -2.  , -1.75, -7.75,\n",
       "       -3.5 ,  4.  ])"
      ]
     },
     "execution_count": 13,
     "metadata": {},
     "output_type": "execute_result"
    }
   ],
   "source": [
    "din_mod[:128]"
   ]
  },
  {
   "cell_type": "code",
   "execution_count": 14,
   "id": "c2c31238-6d97-4de8-a2ae-5d237f106d02",
   "metadata": {},
   "outputs": [],
   "source": [
    "mismatches = np.where(din_sim[:5940] - din_mod)[0]"
   ]
  },
  {
   "cell_type": "code",
   "execution_count": 15,
   "id": "39ee87b6-3a52-4ac1-9cd8-99356d51e92d",
   "metadata": {},
   "outputs": [
    {
     "data": {
      "text/plain": [
       "array([], dtype=int64)"
      ]
     },
     "execution_count": 15,
     "metadata": {},
     "output_type": "execute_result"
    }
   ],
   "source": [
    "mismatches"
   ]
  },
  {
   "cell_type": "code",
   "execution_count": 16,
   "id": "9c584070-e1d0-4681-a154-0170469b9e7d",
   "metadata": {},
   "outputs": [
    {
     "data": {
      "text/plain": [
       "array([], dtype=float64)"
      ]
     },
     "execution_count": 16,
     "metadata": {},
     "output_type": "execute_result"
    }
   ],
   "source": [
    "din_mod[mismatches]"
   ]
  },
  {
   "cell_type": "code",
   "execution_count": 17,
   "id": "ec319df2-8015-4521-a294-dc29c52fe6c4",
   "metadata": {},
   "outputs": [
    {
     "data": {
      "text/plain": [
       "array([], dtype=float64)"
      ]
     },
     "execution_count": 17,
     "metadata": {},
     "output_type": "execute_result"
    }
   ],
   "source": [
    "din_sim[mismatches]"
   ]
  },
  {
   "cell_type": "code",
   "execution_count": 18,
   "id": "ced1b7c0-321e-49f8-9afa-decaac5a2c30",
   "metadata": {},
   "outputs": [
    {
     "name": "stdout",
     "output_type": "stream",
     "text": [
      "Beat: 338, Box-Muller Core: 1\n"
     ]
    }
   ],
   "source": [
    "bad_idx = 5410\n",
    "beat_idx = bad_idx // 16\n",
    "bm_core_idx = (bad_idx % 16)//2\n",
    "\n",
    "print(f\"Beat: {beat_idx}, Box-Muller Core: {bm_core_idx}\")"
   ]
  },
  {
   "cell_type": "code",
   "execution_count": 19,
   "id": "3c75c26a-7074-4481-90b2-f922b2e62122",
   "metadata": {},
   "outputs": [
    {
     "name": "stdout",
     "output_type": "stream",
     "text": [
      "X\"b5e87ea0c7ec\", X\"0eb9\", X\"7fffeb38\"\n"
     ]
    }
   ],
   "source": [
    "rnd_vector = ber.get_rnd_vector(block, bm_core_idx)[beat_idx]\n",
    "print(f'X\"{rnd_vector[0]:012x}\", X\"{rnd_vector[1]:04x}\", X\"{rnd_vector[2]:08x}\"')"
   ]
  },
  {
   "cell_type": "code",
   "execution_count": 20,
   "id": "50b7e6b6-e3bd-4fea-a056-43337d0669ed",
   "metadata": {},
   "outputs": [
    {
     "data": {
      "text/plain": [
       "(0.00048828125, 0.0009765625)"
      ]
     },
     "execution_count": 20,
     "metadata": {},
     "output_type": "execute_result"
    }
   ],
   "source": [
    "sdfec_cmodel.bitexact_gaussian(*rnd_vector)"
   ]
  },
  {
   "cell_type": "code",
   "execution_count": 21,
   "id": "eb8200d3-04ed-4387-bac0-547724d7361b",
   "metadata": {},
   "outputs": [],
   "source": [
    "rnd_vector = (0xb5e87ea0c7ec, 0x0eb9, 0x7fffeb38)"
   ]
  },
  {
   "cell_type": "code",
   "execution_count": 22,
   "id": "1800f1f7-8e52-46fb-a072-0352314385d6",
   "metadata": {},
   "outputs": [
    {
     "data": {
      "text/plain": [
       "(0.0005564478274236821, 0.0014723061496036947)"
      ]
     },
     "execution_count": 22,
     "metadata": {},
     "output_type": "execute_result"
    }
   ],
   "source": [
    "sdfec_cmodel.gaussian(*rnd_vector)"
   ]
  },
  {
   "cell_type": "code",
   "execution_count": 23,
   "id": "3a376746-34b0-47c3-8587-acd0b044432c",
   "metadata": {},
   "outputs": [
    {
     "data": {
      "text/plain": [
       "(0.00048828125, 0.0009765625)"
      ]
     },
     "execution_count": 23,
     "metadata": {},
     "output_type": "execute_result"
    }
   ],
   "source": [
    "sdfec_cmodel.bitexact_gaussian(*rnd_vector)"
   ]
  },
  {
   "cell_type": "code",
   "execution_count": 24,
   "id": "0450188a-8279-4d61-8332-c9bbd9b517eb",
   "metadata": {},
   "outputs": [
    {
     "data": {
      "text/plain": [
       "-4.0"
      ]
     },
     "execution_count": 24,
     "metadata": {},
     "output_type": "execute_result"
    }
   ],
   "source": [
    "din_sim[bad_idx]"
   ]
  },
  {
   "cell_type": "code",
   "execution_count": null,
   "id": "c3e78af2-4060-4606-b8ba-7900499a3064",
   "metadata": {},
   "outputs": [],
   "source": []
  }
 ],
 "metadata": {
  "kernelspec": {
   "display_name": "Python 3 (ipykernel)",
   "language": "python",
   "name": "python3"
  },
  "language_info": {
   "codemirror_mode": {
    "name": "ipython",
    "version": 3
   },
   "file_extension": ".py",
   "mimetype": "text/x-python",
   "name": "python",
   "nbconvert_exporter": "python",
   "pygments_lexer": "ipython3",
   "version": "3.10.2"
  }
 },
 "nbformat": 4,
 "nbformat_minor": 5
}
