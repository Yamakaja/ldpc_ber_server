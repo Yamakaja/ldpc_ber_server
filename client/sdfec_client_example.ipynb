{
 "cells": [
  {
   "cell_type": "markdown",
   "id": "2a657f80-aae9-4d92-9f43-9c4e00a54f31",
   "metadata": {},
   "source": [
    "# SDFEC Simulation Example"
   ]
  },
  {
   "cell_type": "code",
   "execution_count": 1,
   "id": "fa289639-16dc-43a7-a359-24bf625bd088",
   "metadata": {},
   "outputs": [],
   "source": [
    "import numpy as np\n",
    "import matplotlib.pyplot as plt\n",
    "\n",
    "import sdfec_client\n",
    "\n",
    "%matplotlib inline"
   ]
  },
  {
   "cell_type": "code",
   "execution_count": 2,
   "id": "5ea9e019-2108-420f-862a-a86623c2fd6a",
   "metadata": {},
   "outputs": [],
   "source": [
    "target = \"http://localhost:8230/api\"\n",
    "\n",
    "client = sdfec_client.SDFECClient(target)"
   ]
  },
  {
   "cell_type": "code",
   "execution_count": 7,
   "id": "e85d4022-baad-4ec1-a7f9-090cb5fa808c",
   "metadata": {},
   "outputs": [],
   "source": [
    "code = sdfec_client.parse_yaml(\"test.sdfec.yml\")\n",
    "code_id = client.add_code(code)"
   ]
  },
  {
   "cell_type": "code",
   "execution_count": 8,
   "id": "d00d7b2e-c187-40ea-9f24-462d2cf58162",
   "metadata": {},
   "outputs": [],
   "source": [
    "# client.status"
   ]
  },
  {
   "cell_type": "code",
   "execution_count": 9,
   "id": "c123f250-38e5-499d-8bf5-f2410593810b",
   "metadata": {},
   "outputs": [],
   "source": [
    "snrs = np.arange(3, 7.25, 0.25)\n",
    "snr_scales = np.ones_like(snrs)*2"
   ]
  },
  {
   "cell_type": "code",
   "execution_count": 10,
   "id": "63230d40-2dbe-47db-90cf-c8188dbb161d",
   "metadata": {},
   "outputs": [
    {
     "data": {
      "application/vnd.jupyter.widget-view+json": {
       "model_id": "984f179e6e204e118969ccf25f1ebc45",
       "version_major": 2,
       "version_minor": 0
      },
      "text/plain": [
       "FloatProgress(value=0.0, bar_style='info', description='Running: ', max=1.0)"
      ]
     },
     "metadata": {},
     "output_type": "display_data"
    }
   ],
   "source": [
    "result = client.simulate(code_id, snrs, snr_scales=snr_scales, term_time=10).wait_progress()"
   ]
  },
  {
   "cell_type": "code",
   "execution_count": 11,
   "id": "2dab6ced-bd2e-41a0-8a65-29a721bb7901",
   "metadata": {},
   "outputs": [
    {
     "data": {
      "text/plain": [
       "{'task_id': '9dbb4a383fc27cc9f0de04dd5dd9062c',\n",
       " 'success': True,\n",
       " 'snrs': [3.0,\n",
       "  3.25,\n",
       "  3.5,\n",
       "  3.75,\n",
       "  4.0,\n",
       "  4.25,\n",
       "  4.5,\n",
       "  4.75,\n",
       "  5.0,\n",
       "  5.25,\n",
       "  5.5,\n",
       "  5.75,\n",
       "  6.0,\n",
       "  6.25,\n",
       "  6.5,\n",
       "  6.75,\n",
       "  7.0],\n",
       " 'bers': [0.10329510270666178,\n",
       "  0.0974302209921679,\n",
       "  0.09125604560761182,\n",
       "  0.08506362693473751,\n",
       "  0.07908858074542462,\n",
       "  0.07283678592244401,\n",
       "  0.06612849291484571,\n",
       "  0.05893924463074034,\n",
       "  0.05152207909245123,\n",
       "  0.04225174606945811,\n",
       "  0.025094739936628932,\n",
       "  0.003903411967798609,\n",
       "  8.73771352228266e-05,\n",
       "  6.263734024188903e-08,\n",
       "  1.5601848261346506e-11,\n",
       "  4.6358395221030676e-12,\n",
       "  0.0],\n",
       " 'speeds': [5369227325.406057,\n",
       "  5457152506.420788,\n",
       "  5480128119.461322,\n",
       "  5488459810.987319,\n",
       "  5487637739.856938,\n",
       "  5529010831.412017,\n",
       "  5534135996.568796,\n",
       "  5474091035.479847,\n",
       "  5422506314.265985,\n",
       "  5461652275.2,\n",
       "  5265154816.908555,\n",
       "  6164697034.297974,\n",
       "  7886138473.417735,\n",
       "  19840034745.08295,\n",
       "  22526713444.699608,\n",
       "  25269875116.79152,\n",
       "  26893264942.9358]}"
      ]
     },
     "execution_count": 11,
     "metadata": {},
     "output_type": "execute_result"
    }
   ],
   "source": [
    "result"
   ]
  },
  {
   "cell_type": "code",
   "execution_count": 13,
   "id": "530c62f7-fa40-44e0-b97a-3e87b9c24414",
   "metadata": {},
   "outputs": [
    {
     "data": {
      "image/png": "[encoded data removed]",
      "text/plain": [
       "<Figure size 432x288 with 1 Axes>"
      ]
     },
     "metadata": {
      "needs_background": "light"
     },
     "output_type": "display_data"
    }
   ],
   "source": [
    "plt.plot(result[\"snrs\"], result[\"bers\"])\n",
    "plt.yscale(\"log\")\n",
    "plt.title(\"BER Curve: test code\")\n",
    "plt.ylabel(\"BER\")\n",
    "plt.xlabel(\"SNR\")\n",
    "plt.show()"
   ]
  },
  {
   "cell_type": "code",
   "execution_count": null,
   "id": "01745b75-8d0e-45be-a3e4-2e543989e3a7",
   "metadata": {},
   "outputs": [],
   "source": []
  }
 ],
 "metadata": {
  "kernelspec": {
   "display_name": "Python 3 (ipykernel)",
   "language": "python",
   "name": "python3"
  },
  "language_info": {
   "codemirror_mode": {
    "name": "ipython",
    "version": 3
   },
   "file_extension": ".py",
   "mimetype": "text/x-python",
   "name": "python",
   "nbconvert_exporter": "python",
   "pygments_lexer": "ipython3",
   "version": "3.10.1"
  }
 },
 "nbformat": 4,
 "nbformat_minor": 5
}
