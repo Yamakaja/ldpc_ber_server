{
 "cells": [
  {
   "cell_type": "markdown",
   "id": "2a657f80-aae9-4d92-9f43-9c4e00a54f31",
   "metadata": {},
   "source": [
    "# SDFEC Simulation Example"
   ]
  },
  {
   "cell_type": "code",
   "execution_count": 18,
   "id": "fa289639-16dc-43a7-a359-24bf625bd088",
   "metadata": {},
   "outputs": [],
   "source": [
    "import numpy as np\n",
    "import matplotlib.pyplot as plt\n",
    "\n",
    "import sdfec_client\n",
    "\n",
    "%matplotlib inline"
   ]
  },
  {
   "cell_type": "code",
   "execution_count": 39,
   "id": "5ea9e019-2108-420f-862a-a86623c2fd6a",
   "metadata": {},
   "outputs": [],
   "source": [
    "target = \"http://localhost:8230/api\"\n",
    "\n",
    "client = sdfec_client.SDFECClient(target)"
   ]
  },
  {
   "cell_type": "code",
   "execution_count": 40,
   "id": "e85d4022-baad-4ec1-a7f9-090cb5fa808c",
   "metadata": {},
   "outputs": [],
   "source": [
    "code = sdfec_client.parse_yaml(\"test.sdfec.yml\")\n",
    "code_id = client.add_code(code)"
   ]
  },
  {
   "cell_type": "code",
   "execution_count": 41,
   "id": "d00d7b2e-c187-40ea-9f24-462d2cf58162",
   "metadata": {},
   "outputs": [],
   "source": [
    "# client.status"
   ]
  },
  {
   "cell_type": "code",
   "execution_count": 42,
   "id": "65f8c04a-5474-4fec-b391-b9d40d817fa4",
   "metadata": {},
   "outputs": [],
   "source": [
    "SNR = -20*np.log10(0.5)"
   ]
  },
  {
   "cell_type": "code",
   "execution_count": 43,
   "id": "d485a9d9-c34b-4010-88db-a3407309f560",
   "metadata": {},
   "outputs": [
    {
     "data": {
      "text/plain": [
       "6.020599913279624"
      ]
     },
     "execution_count": 43,
     "metadata": {},
     "output_type": "execute_result"
    }
   ],
   "source": [
    "SNR"
   ]
  },
  {
   "cell_type": "code",
   "execution_count": 50,
   "id": "c123f250-38e5-499d-8bf5-f2410593810b",
   "metadata": {},
   "outputs": [],
   "source": [
    "snrs = np.arange(3, 7.25, 0.25)\n",
    "# snrs = np.array([SNR])\n",
    "snr_scales = np.ones_like(snrs)*1"
   ]
  },
  {
   "cell_type": "code",
   "execution_count": 51,
   "id": "63230d40-2dbe-47db-90cf-c8188dbb161d",
   "metadata": {},
   "outputs": [
    {
     "data": {
      "application/vnd.jupyter.widget-view+json": {
       "model_id": "0f75b9f5a96c44ec8ca33a002dbf5567",
       "version_major": 2,
       "version_minor": 0
      },
      "text/plain": [
       "FloatProgress(value=0.0, bar_style='info', description='Running: ', max=1.0)"
      ]
     },
     "metadata": {},
     "output_type": "display_data"
    }
   ],
   "source": [
    "result = client.simulate(code_id, snrs, snr_scales=snr_scales, term_time=10, max_iterations=16, collect_last_failed=1024).wait_progress()"
   ]
  },
  {
   "cell_type": "code",
   "execution_count": 52,
   "id": "2dab6ced-bd2e-41a0-8a65-29a721bb7901",
   "metadata": {},
   "outputs": [
    {
     "data": {
      "text/plain": [
       "[6, 8, 7, 9, 6, 14]"
      ]
     },
     "execution_count": 52,
     "metadata": {},
     "output_type": "execute_result"
    }
   ],
   "source": [
    "[len(v) for v in result[\"last_failed\"][-1]]"
   ]
  },
  {
   "cell_type": "code",
   "execution_count": 53,
   "id": "530c62f7-fa40-44e0-b97a-3e87b9c24414",
   "metadata": {},
   "outputs": [
    {
     "data": {
      "image/png": "[encoded data removed]",
      "text/plain": [
       "<Figure size 432x288 with 1 Axes>"
      ]
     },
     "metadata": {
      "needs_background": "light"
     },
     "output_type": "display_data"
    }
   ],
   "source": [
    "plt.plot(result[\"snrs\"], result[\"bers\"])\n",
    "plt.yscale(\"log\")\n",
    "plt.title(\"BER Curve: test code\")\n",
    "plt.ylabel(\"BER\")\n",
    "plt.xlabel(\"SNR\")\n",
    "plt.show()"
   ]
  },
  {
   "cell_type": "code",
   "execution_count": null,
   "id": "01745b75-8d0e-45be-a3e4-2e543989e3a7",
   "metadata": {},
   "outputs": [],
   "source": []
  }
 ],
 "metadata": {
  "kernelspec": {
   "display_name": "Python 3 (ipykernel)",
   "language": "python",
   "name": "python3"
  },
  "language_info": {
   "codemirror_mode": {
    "name": "ipython",
    "version": 3
   },
   "file_extension": ".py",
   "mimetype": "text/x-python",
   "name": "python",
   "nbconvert_exporter": "python",
   "pygments_lexer": "ipython3",
   "version": "3.10.2"
  }
 },
 "nbformat": 4,
 "nbformat_minor": 5
}
